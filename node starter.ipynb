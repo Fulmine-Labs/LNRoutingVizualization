{
 "cells": [
  {
   "cell_type": "code",
   "execution_count": 1,
   "id": "9e2315af-c13a-4f8a-870e-1507de660a8c",
   "metadata": {
    "tags": []
   },
   "outputs": [],
   "source": [
    "import os\n",
    "import subprocess\n",
    "import time\n",
    "import psutil\n"
   ]
  },
  {
   "cell_type": "code",
   "execution_count": 2,
   "id": "e2d32638-d9b8-4dff-bd9c-26e9abc9f1a3",
   "metadata": {
    "tags": []
   },
   "outputs": [],
   "source": [
    "\n",
    "def shutdown_node_processes():\n",
    "    for process in psutil.process_iter(['pid', 'name', 'cmdline']):\n",
    "        try:\n",
    "            # Extract process information\n",
    "            process_name = process.info['name'].lower() if process.info['name'] else \"\"\n",
    "            process_cmdline = process.info['cmdline'] if process.info['cmdline'] else []\n",
    "\n",
    "            # Check if 'node' is in the process name or command line\n",
    "            if 'node' in process_name or any('node' in cmd.lower() for cmd in process_cmdline):\n",
    "                print(f\"Terminating process: {process_name} (PID: {process.pid})\")\n",
    "                psutil.Process(process.pid).terminate()\n",
    "        except (psutil.NoSuchProcess, psutil.AccessDenied, psutil.ZombieProcess):\n",
    "            pass"
   ]
  },
  {
   "cell_type": "code",
   "execution_count": 3,
   "id": "e730cb95-7123-48f3-8915-1a6ee6cc9b9a",
   "metadata": {
    "tags": []
   },
   "outputs": [],
   "source": [
    "def start_node(node_number, node_dir):\n",
    "    # Define the new title for the command prompt window\n",
    "    new_title = f\"Node {node_number}\"\n",
    "\n",
    "    # Command to change the title of the command prompt\n",
    "    title_command = f\"title {new_title}\"\n",
    "\n",
    "    # Path to the batch file\n",
    "    node_bat = os.path.join(node_dir, f\"node{node_number}.bat\")\n",
    "\n",
    "    # Create the full command with the title change\n",
    "    full_command = f\"{title_command} & {node_bat}\"\n",
    "\n",
    "    # Start the process with the updated command\n",
    "    subprocess.Popen([\"cmd\", \"/k\", full_command], cwd=node_dir, creationflags=subprocess.CREATE_NEW_CONSOLE)\n"
   ]
  },
  {
   "cell_type": "code",
   "execution_count": 4,
   "id": "a80999c4-d635-4378-8743-2223607f0d46",
   "metadata": {
    "tags": []
   },
   "outputs": [],
   "source": [
    "def unlock_wallet(node_dir, rpc_port, wallet_password):\n",
    "    unlock_command = f\"lncli --network regtest --macaroonpath={node_dir}\\\\data\\\\chain\\\\bitcoin\\\\regtest\\\\admin.macaroon --tlscertpath={node_dir}\\\\tls.cert --rpcserver=localhost:{rpc_port} unlock --stdin\"\n",
    "    proc = subprocess.Popen(unlock_command, stdin=subprocess.PIPE, shell=True, text=True)\n",
    "    proc.communicate(wallet_password + \"\\n\")"
   ]
  },
  {
   "cell_type": "code",
   "execution_count": 5,
   "id": "5285a9a9-c90d-456c-b0fc-25484826f03d",
   "metadata": {
    "tags": []
   },
   "outputs": [
    {
     "name": "stdout",
     "output_type": "stream",
     "text": [
      "Starting Node1...\n",
      "Unlocking Wallet for Node1...\n",
      "Starting Node2...\n",
      "Unlocking Wallet for Node2...\n",
      "Starting Node3...\n",
      "Unlocking Wallet for Node3...\n",
      "Starting Node4...\n",
      "Unlocking Wallet for Node4...\n",
      "Starting Node5...\n",
      "Unlocking Wallet for Node5...\n",
      "Starting Node6...\n",
      "Unlocking Wallet for Node6...\n",
      "Starting Node7...\n",
      "Unlocking Wallet for Node7...\n",
      "Starting Node8...\n",
      "Unlocking Wallet for Node8...\n",
      "Starting Node9...\n",
      "Unlocking Wallet for Node9...\n",
      "Starting Node10...\n",
      "Unlocking Wallet for Node10...\n",
      "Starting Node11...\n",
      "Unlocking Wallet for Node11...\n",
      "Starting Node12...\n",
      "Unlocking Wallet for Node12...\n",
      "Starting Node13...\n",
      "Unlocking Wallet for Node13...\n",
      "Starting Node14...\n",
      "Unlocking Wallet for Node14...\n",
      "Starting Node15...\n",
      "Unlocking Wallet for Node15...\n",
      "Starting Node16...\n",
      "Unlocking Wallet for Node16...\n",
      "Starting Node17...\n",
      "Unlocking Wallet for Node17...\n",
      "Starting Node18...\n",
      "Unlocking Wallet for Node18...\n",
      "Starting Node19...\n",
      "Unlocking Wallet for Node19...\n",
      "Starting Node20...\n",
      "Unlocking Wallet for Node20...\n",
      "Starting Node21...\n",
      "Unlocking Wallet for Node21...\n",
      "Starting Node22...\n",
      "Unlocking Wallet for Node22...\n",
      "Starting Node23...\n",
      "Unlocking Wallet for Node23...\n",
      "All nodes have been started and unlocked.\n"
     ]
    }
   ],
   "source": [
    "# Main script\n",
    "lnd_dir = \"D:\\\\lnd\\\\\"\n",
    "\n",
    "# Shutdown all processes with the word node in the name\n",
    "shutdown_node_processes()\n",
    "time.sleep(5)\n",
    "\n",
    "# Now start and unlock the wallets for 24 nodes\n",
    "for i in range(1, 24):\n",
    "    node_dir = os.path.join(lnd_dir, f\"node{i}\")\n",
    "    rpc_port = 10008 + i\n",
    "    password_file = os.path.join(node_dir, \"password.txt\")\n",
    "\n",
    "    with open(password_file, 'r') as file:\n",
    "        wallet_password = file.read().strip()\n",
    "\n",
    "    print(f\"Starting Node{i}...\")\n",
    "    start_node(i, node_dir)\n",
    "    time.sleep(5)  # Wait for node to initialize\n",
    "\n",
    "    print(f\"Unlocking Wallet for Node{i}...\")\n",
    "    unlock_wallet(node_dir, rpc_port, wallet_password)\n",
    "    time.sleep(2)\n",
    "\n",
    "print(\"All nodes have been started and unlocked.\")"
   ]
  },
  {
   "cell_type": "code",
   "execution_count": null,
   "id": "6bfb737e-5acd-490a-b9da-84380649a98f",
   "metadata": {},
   "outputs": [],
   "source": []
  }
 ],
 "metadata": {
  "kernelspec": {
   "display_name": "Python 3 (ipykernel)",
   "language": "python",
   "name": "python3"
  },
  "language_info": {
   "codemirror_mode": {
    "name": "ipython",
    "version": 3
   },
   "file_extension": ".py",
   "mimetype": "text/x-python",
   "name": "python",
   "nbconvert_exporter": "python",
   "pygments_lexer": "ipython3",
   "version": "3.11.5"
  }
 },
 "nbformat": 4,
 "nbformat_minor": 5
}
