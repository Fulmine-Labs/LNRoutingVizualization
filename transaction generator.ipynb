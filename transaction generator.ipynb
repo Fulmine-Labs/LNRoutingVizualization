{
 "cells": [
  {
   "cell_type": "code",
   "execution_count": 1,
   "id": "e7641f3f-a280-44f2-a02f-89d2d1aeae5b",
   "metadata": {
    "tags": []
   },
   "outputs": [],
   "source": [
    "import subprocess\n",
    "import random\n",
    "import os\n",
    "import time"
   ]
  },
  {
   "cell_type": "code",
   "execution_count": 2,
   "id": "a173a70d-e939-42d7-926f-f1c273635140",
   "metadata": {
    "tags": []
   },
   "outputs": [],
   "source": [
    "# Configurations\n",
    "num_nodes = 23\n",
    "min_transaction_amount = 1000  # Minimum transaction amount in satoshis\n",
    "max_transaction_amount = 100000  # Maximum transaction amount in satoshis\n",
    "transaction_interval = 5  # Time interval between transactions in seconds\n",
    "\n",
    "# Additional configuration for block generation\n",
    "block_generation_interval = 30  # Generate a block after every 30 transactions\n",
    "transactions_since_last_block = 0\n"
   ]
  },
  {
   "cell_type": "code",
   "execution_count": 3,
   "id": "81b597db-4257-464e-8869-fea6464584fe",
   "metadata": {
    "tags": []
   },
   "outputs": [],
   "source": [
    "# Generate node information\n",
    "nodes = [{'id': i, 'port': 10008 + i, 'macaroon_path': f'd:\\\\lnd\\\\node{i}\\\\data\\\\chain\\\\bitcoin\\\\regtest\\\\admin.macaroon', 'tls_cert_path': f'd:\\\\lnd\\\\node{i}\\\\tls.cert'} for i in range(2, num_nodes + 1)]"
   ]
  },
  {
   "cell_type": "code",
   "execution_count": 4,
   "id": "ef877420-7daf-4a58-a97d-41df7b39fffc",
   "metadata": {
    "tags": []
   },
   "outputs": [],
   "source": [
    "# Function to send a payment from one node to another\n",
    "def send_payment(source_node, dest_node, amount):\n",
    "    # Get the invoice from the destination node\n",
    "    command = f'lncli --network regtest --macaroonpath={dest_node[\"macaroon_path\"]} --tlscertpath={dest_node[\"tls_cert_path\"]} --rpcserver=localhost:{dest_node[\"port\"]} addinvoice {amount}'\n",
    "    #print (\"Command: \", command)\n",
    "    result = subprocess.run(command, capture_output=True, text=True, shell=True)\n",
    "    #print(\"Invoice command output:\", result.stdout)\n",
    "    \n",
    "    if result.returncode != 0:\n",
    "        print(f\"Failed to generate invoice: {result.stderr}\")\n",
    "        return  # Skip sending the payment if invoice generation failed\n",
    "    \n",
    "    #print (\"Invoice before split: \", result.stdout)\n",
    "    \n",
    "    invoice = result.stdout.split('\"')[7]  # Extract the invoice\n",
    "        \n",
    "    # Send the payment from the source node\n",
    "    command = f'lncli --network regtest --macaroonpath={source_node[\"macaroon_path\"]} --tlscertpath={source_node[\"tls_cert_path\"]} --rpcserver=localhost:{source_node[\"port\"]} sendpayment --pay_req={invoice} --force'\n",
    "    #print (\"Running \", command)\n",
    "    result = subprocess.run(command, shell=True)\n",
    "    \n",
    "    if result.returncode != 0:\n",
    "        print(f\"Failed to send payment: {result.stderr}\")\n",
    "        return\n"
   ]
  },
  {
   "cell_type": "code",
   "execution_count": 5,
   "id": "99f83202-54b6-4b31-86d4-dae0bceed9ef",
   "metadata": {
    "tags": []
   },
   "outputs": [],
   "source": [
    "# Function to generate a block\n",
    "def generate_block():\n",
    "    command = 'bitcoin-cli -regtest -rpcport=18443 -rpcuser=myrpcusername -rpcpassword=myrpcpassword -generate 1'\n",
    "    subprocess.run(command, shell=True)\n",
    "    print(\"Generated a new block.\")"
   ]
  },
  {
   "cell_type": "code",
   "execution_count": 6,
   "id": "b39f5a2c-44a2-4a85-b24b-4a289d647219",
   "metadata": {
    "tags": []
   },
   "outputs": [
    {
     "name": "stdout",
     "output_type": "stream",
     "text": [
      "Generated a new block.\n",
      "Sending 88875 sats from Node21 to Node11\n",
      "Sending 31758 sats from Node4 to Node9\n",
      "Sending 65531 sats from Node9 to Node2\n",
      "Sending 98094 sats from Node8 to Node23\n",
      "Sending 55237 sats from Node20 to Node8\n",
      "Sending 49203 sats from Node13 to Node22\n",
      "Sending 50958 sats from Node3 to Node4\n",
      "Sending 84056 sats from Node13 to Node4\n",
      "Sending 53831 sats from Node4 to Node18\n",
      "Sending 62370 sats from Node20 to Node5\n",
      "Sending 96404 sats from Node21 to Node11\n",
      "Failed to send payment: None\n",
      "Sending 87960 sats from Node4 to Node19\n",
      "Sending 27823 sats from Node19 to Node8\n",
      "Sending 63571 sats from Node3 to Node23\n",
      "Sending 80897 sats from Node23 to Node4\n",
      "Sending 22175 sats from Node11 to Node20\n",
      "Sending 71729 sats from Node13 to Node6\n",
      "Sending 27571 sats from Node16 to Node3\n",
      "Sending 99433 sats from Node18 to Node5\n",
      "Sending 70213 sats from Node20 to Node10\n",
      "Sending 54901 sats from Node16 to Node9\n",
      "Sending 52466 sats from Node14 to Node22\n",
      "Sending 82096 sats from Node11 to Node12\n",
      "Sending 7183 sats from Node5 to Node23\n",
      "Sending 87970 sats from Node23 to Node5\n",
      "Sending 13330 sats from Node11 to Node19\n",
      "Sending 55816 sats from Node16 to Node2\n",
      "Sending 42232 sats from Node11 to Node16\n",
      "Sending 99509 sats from Node11 to Node19\n",
      "Sending 45822 sats from Node21 to Node16\n",
      "Generated a new block.\n",
      "Sending 93369 sats from Node18 to Node6\n",
      "Sending 64157 sats from Node13 to Node22\n"
     ]
    },
    {
     "ename": "KeyboardInterrupt",
     "evalue": "",
     "output_type": "error",
     "traceback": [
      "\u001b[1;31m---------------------------------------------------------------------------\u001b[0m",
      "\u001b[1;31mKeyboardInterrupt\u001b[0m                         Traceback (most recent call last)",
      "Cell \u001b[1;32mIn[6], line 22\u001b[0m\n\u001b[0;32m     19\u001b[0m         generate_block()\n\u001b[0;32m     20\u001b[0m         transactions_since_last_block \u001b[38;5;241m=\u001b[39m \u001b[38;5;241m0\u001b[39m\n\u001b[1;32m---> 22\u001b[0m \u001b[43mtime\u001b[49m\u001b[38;5;241;43m.\u001b[39;49m\u001b[43msleep\u001b[49m\u001b[43m(\u001b[49m\u001b[43mtransaction_interval\u001b[49m\u001b[43m)\u001b[49m\n",
      "\u001b[1;31mKeyboardInterrupt\u001b[0m: "
     ]
    }
   ],
   "source": [
    "generate_block()\n",
    "\n",
    "# Infinite loop to send random payments\n",
    "while True:\n",
    "    source = random.choice(nodes[1:])  # Exclude node1 from being a source\n",
    "    dest = random.choice(nodes)  # Any node can be a destination\n",
    "    amount = random.randint(min_transaction_amount, max_transaction_amount)\n",
    "\n",
    "    if source != dest:\n",
    "        print(f\"Sending {amount} sats from Node{source['id']} to Node{dest['id']}\")\n",
    "        try:\n",
    "            send_payment(source, dest, amount)\n",
    "        except Exception as e:\n",
    "            print(f\"Error sending payment: {e}\")\n",
    "            \n",
    "        transactions_since_last_block += 1\n",
    "        # Generate a block if the interval is reached\n",
    "        if transactions_since_last_block >= block_generation_interval:\n",
    "            generate_block()\n",
    "            transactions_since_last_block = 0\n",
    "\n",
    "    time.sleep(transaction_interval)"
   ]
  },
  {
   "cell_type": "code",
   "execution_count": null,
   "id": "17592071-2666-453c-8d6a-05c4d1ba8124",
   "metadata": {},
   "outputs": [],
   "source": []
  },
  {
   "cell_type": "code",
   "execution_count": null,
   "id": "e17c18ad-7468-4c38-ac69-1fd032169597",
   "metadata": {},
   "outputs": [],
   "source": []
  }
 ],
 "metadata": {
  "kernelspec": {
   "display_name": "Python 3 (ipykernel)",
   "language": "python",
   "name": "python3"
  },
  "language_info": {
   "codemirror_mode": {
    "name": "ipython",
    "version": 3
   },
   "file_extension": ".py",
   "mimetype": "text/x-python",
   "name": "python",
   "nbconvert_exporter": "python",
   "pygments_lexer": "ipython3",
   "version": "3.10.13"
  }
 },
 "nbformat": 4,
 "nbformat_minor": 5
}
