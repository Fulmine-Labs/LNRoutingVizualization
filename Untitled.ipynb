{
 "cells": [
  {
   "cell_type": "code",
   "execution_count": 7,
   "id": "be31cb7b-cceb-4da2-9d27-304e0e77f8cb",
   "metadata": {
    "tags": []
   },
   "outputs": [
    {
     "name": "stdout",
     "output_type": "stream",
     "text": [
      "ChatCompletionMessage(content='Certainly! To generate an image of a beautiful girl, you can guide the AI model using descriptive characteristics and aesthetics in your prompt. Here\\'s an example:\\n\\nPrompt: \"Create a highly-detailed portrait of a beautiful girl with an ethereal glow. Capture her with long, flowing hair that dances like silk in a gentle breeze. Her eyes should be large, expressive, and shimmer with a mesmerizing hue of deep ocean blue. Her skin is flawless, with a luminescent quality reminiscent of the soft light of the moon. She has a subtle smile that suggests a secret serenity. Adorn her with delicate, nature-inspired jewelry that complements her supernatural beauty. The background should be a soft, out-of-focus garden, drenched in the golden light of the magic hour, enhancing the dreamlike mood of the image. The overall composition should be balanced and harmonious, exuding a sense of classical beauty with a modern, magical twist. Render the image with an oil painting texture, high resolution, and vivid colors to exhibit the intricate details of her features and the ambient magic of the setting.\"\\n\\nRemember to specify your preferences for resolution and stylistic elements, as I\\'ve done at the end of the prompt. You can also modify any part of this prompt to better reflect the specific type of beauty you want to represent in the image.', role='assistant', function_call=None, tool_calls=None)\n"
     ]
    }
   ],
   "source": [
    "from openai import OpenAI\n",
    "client = OpenAI()\n",
    "\n",
    "completion = client.chat.completions.create(\n",
    "  model=\"gpt-4-1106-preview\",\n",
    "  messages=[\n",
    "    {\"role\": \"system\", \"content\": \"You are a stable diffusion assistant, skilled in creating prompts with creative flair.\"},\n",
    "    {\"role\": \"user\", \"content\": \"Create an SDXL prompt that generates an image of a beautiful girl\"}\n",
    "  ]\n",
    ")\n",
    "\n",
    "print(completion.choices[0].message)"
   ]
  },
  {
   "cell_type": "code",
   "execution_count": null,
   "id": "cac205c4-5a46-442d-ac6c-42bd2506eb36",
   "metadata": {},
   "outputs": [],
   "source": []
  },
  {
   "cell_type": "code",
   "execution_count": null,
   "id": "fc2243c2-05e1-4dde-a76d-b0a23ead14a8",
   "metadata": {},
   "outputs": [],
   "source": []
  }
 ],
 "metadata": {
  "kernelspec": {
   "display_name": "Python 3 (ipykernel)",
   "language": "python",
   "name": "python3"
  },
  "language_info": {
   "codemirror_mode": {
    "name": "ipython",
    "version": 3
   },
   "file_extension": ".py",
   "mimetype": "text/x-python",
   "name": "python",
   "nbconvert_exporter": "python",
   "pygments_lexer": "ipython3",
   "version": "3.10.13"
  }
 },
 "nbformat": 4,
 "nbformat_minor": 5
}
