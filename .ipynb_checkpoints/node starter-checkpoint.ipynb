{
 "cells": [
  {
   "cell_type": "code",
   "execution_count": 19,
   "id": "9e2315af-c13a-4f8a-870e-1507de660a8c",
   "metadata": {
    "tags": []
   },
   "outputs": [],
   "source": [
    "import os\n",
    "import subprocess\n",
    "import time\n",
    "import psutil\n"
   ]
  },
  {
   "cell_type": "code",
   "execution_count": 28,
   "id": "e2d32638-d9b8-4dff-bd9c-26e9abc9f1a3",
   "metadata": {
    "tags": []
   },
   "outputs": [],
   "source": [
    "\n",
    "def shutdown_node_processes():\n",
    "    for process in psutil.process_iter(['pid', 'name', 'cmdline']):\n",
    "        try:\n",
    "            # Extract process information\n",
    "            process_name = process.info['name'].lower() if process.info['name'] else \"\"\n",
    "            process_cmdline = process.info['cmdline'] if process.info['cmdline'] else []\n",
    "\n",
    "            # Check if 'node' is in the process name or command line\n",
    "            if 'node' in process_name or any('node' in cmd.lower() for cmd in process_cmdline):\n",
    "                print(f\"Terminating process: {process_name} (PID: {process.pid})\")\n",
    "                psutil.Process(process.pid).terminate()\n",
    "        except (psutil.NoSuchProcess, psutil.AccessDenied, psutil.ZombieProcess):\n",
    "            pass"
   ]
  },
  {
   "cell_type": "code",
   "execution_count": 29,
   "id": "e730cb95-7123-48f3-8915-1a6ee6cc9b9a",
   "metadata": {
    "tags": []
   },
   "outputs": [],
   "source": [
    "def start_node(node_number, node_dir):\n",
    "    # Define the new title for the command prompt window\n",
    "    new_title = f\"Node {node_number}\"\n",
    "\n",
    "    # Command to change the title of the command prompt\n",
    "    title_command = f\"title {new_title}\"\n",
    "\n",
    "    # Path to the batch file\n",
    "    node_bat = os.path.join(node_dir, f\"node{node_number}.bat\")\n",
    "\n",
    "    # Create the full command with the title change\n",
    "    full_command = f\"{title_command} & {node_bat}\"\n",
    "\n",
    "    # Start the process with the updated command\n",
    "    subprocess.Popen([\"cmd\", \"/k\", full_command], cwd=node_dir, creationflags=subprocess.CREATE_NEW_CONSOLE)\n"
   ]
  },
  {
   "cell_type": "code",
   "execution_count": 30,
   "id": "a80999c4-d635-4378-8743-2223607f0d46",
   "metadata": {
    "tags": []
   },
   "outputs": [],
   "source": [
    "def unlock_wallet(node_dir, rpc_port, wallet_password):\n",
    "    unlock_command = f\"lncli --network regtest --macaroonpath={node_dir}\\\\data\\\\chain\\\\bitcoin\\\\regtest\\\\admin.macaroon --tlscertpath={node_dir}\\\\tls.cert --rpcserver=localhost:{rpc_port} unlock --stdin\"\n",
    "    proc = subprocess.Popen(unlock_command, stdin=subprocess.PIPE, shell=True, text=True)\n",
    "    proc.communicate(wallet_password + \"\\n\")"
   ]
  },
  {
   "cell_type": "code",
   "execution_count": 32,
   "id": "5285a9a9-c90d-456c-b0fc-25484826f03d",
   "metadata": {
    "tags": []
   },
   "outputs": [
    {
     "name": "stdout",
     "output_type": "stream",
     "text": [
      "Terminating process: cmd.exe (PID: 1368)\n",
      "Terminating process: lnd.exe (PID: 3140)\n",
      "Terminating process: cmd.exe (PID: 5372)\n",
      "Terminating process: lnd.exe (PID: 6856)\n",
      "Terminating process: lnd.exe (PID: 8024)\n",
      "Terminating process: cmd.exe (PID: 11012)\n",
      "Terminating process: lnd.exe (PID: 12340)\n",
      "Terminating process: lnd.exe (PID: 12824)\n",
      "Terminating process: lnd.exe (PID: 13608)\n",
      "Terminating process: lnd.exe (PID: 13788)\n",
      "Terminating process: lnd.exe (PID: 13876)\n",
      "Terminating process: cmd.exe (PID: 13992)\n",
      "Terminating process: lnd.exe (PID: 14712)\n",
      "Terminating process: lnd.exe (PID: 14904)\n",
      "Terminating process: cmd.exe (PID: 15432)\n",
      "Terminating process: cmd.exe (PID: 15704)\n",
      "Terminating process: cmd.exe (PID: 16600)\n",
      "Terminating process: cmd.exe (PID: 16900)\n",
      "Terminating process: cmd.exe (PID: 18704)\n",
      "Terminating process: cmd.exe (PID: 18708)\n",
      "Terminating process: cmd.exe (PID: 19048)\n",
      "Terminating process: cmd.exe (PID: 19520)\n",
      "Terminating process: lnd.exe (PID: 19776)\n",
      "Terminating process: cmd.exe (PID: 20160)\n",
      "Terminating process: lnd.exe (PID: 20880)\n",
      "Terminating process: lnd.exe (PID: 21440)\n",
      "Terminating process: lnd.exe (PID: 21592)\n",
      "Terminating process: lnd.exe (PID: 21644)\n",
      "Terminating process: cmd.exe (PID: 22292)\n",
      "Terminating process: cmd.exe (PID: 22352)\n",
      "Terminating process: cmd.exe (PID: 22464)\n",
      "Terminating process: lnd.exe (PID: 22600)\n",
      "Terminating process: lnd.exe (PID: 22816)\n",
      "Terminating process: lnd.exe (PID: 23048)\n",
      "Terminating process: cmd.exe (PID: 24164)\n",
      "Terminating process: cmd.exe (PID: 24860)\n",
      "Terminating process: lnd.exe (PID: 25180)\n",
      "Terminating process: lnd.exe (PID: 25316)\n",
      "Terminating process: cmd.exe (PID: 25492)\n",
      "Terminating process: cmd.exe (PID: 25776)\n",
      "Terminating process: lnd.exe (PID: 26080)\n",
      "Terminating process: cmd.exe (PID: 27508)\n",
      "Terminating process: cmd.exe (PID: 28336)\n",
      "Terminating process: lnd.exe (PID: 28384)\n",
      "Terminating process: cmd.exe (PID: 29300)\n",
      "Terminating process: lnd.exe (PID: 29640)\n",
      "Starting Node1...\n",
      "Unlocking Wallet for Node1...\n",
      "Starting Node2...\n"
     ]
    },
    {
     "ename": "KeyboardInterrupt",
     "evalue": "",
     "output_type": "error",
     "traceback": [
      "\u001b[1;31m---------------------------------------------------------------------------\u001b[0m",
      "\u001b[1;31mKeyboardInterrupt\u001b[0m                         Traceback (most recent call last)",
      "Cell \u001b[1;32mIn[32], line 19\u001b[0m\n\u001b[0;32m     17\u001b[0m \u001b[38;5;28mprint\u001b[39m(\u001b[38;5;124mf\u001b[39m\u001b[38;5;124m\"\u001b[39m\u001b[38;5;124mStarting Node\u001b[39m\u001b[38;5;132;01m{\u001b[39;00mi\u001b[38;5;132;01m}\u001b[39;00m\u001b[38;5;124m...\u001b[39m\u001b[38;5;124m\"\u001b[39m)\n\u001b[0;32m     18\u001b[0m start_node(i, node_dir)\n\u001b[1;32m---> 19\u001b[0m \u001b[43mtime\u001b[49m\u001b[38;5;241;43m.\u001b[39;49m\u001b[43msleep\u001b[49m\u001b[43m(\u001b[49m\u001b[38;5;241;43m5\u001b[39;49m\u001b[43m)\u001b[49m  \u001b[38;5;66;03m# Wait for node to initialize\u001b[39;00m\n\u001b[0;32m     21\u001b[0m \u001b[38;5;28mprint\u001b[39m(\u001b[38;5;124mf\u001b[39m\u001b[38;5;124m\"\u001b[39m\u001b[38;5;124mUnlocking Wallet for Node\u001b[39m\u001b[38;5;132;01m{\u001b[39;00mi\u001b[38;5;132;01m}\u001b[39;00m\u001b[38;5;124m...\u001b[39m\u001b[38;5;124m\"\u001b[39m)\n\u001b[0;32m     22\u001b[0m unlock_wallet(node_dir, rpc_port, wallet_password)\n",
      "\u001b[1;31mKeyboardInterrupt\u001b[0m: "
     ]
    }
   ],
   "source": [
    "# Main script\n",
    "lnd_dir = \"D:\\\\lnd\\\\\"\n",
    "\n",
    "# Shutdown all processes with the word node in the name\n",
    "shutdown_node_processes()\n",
    "time.sleep(5)\n",
    "\n",
    "# Now start and unlock the wallets for 24 nodes\n",
    "for i in range(1, 24):\n",
    "    node_dir = os.path.join(lnd_dir, f\"node{i}\")\n",
    "    rpc_port = 10008 + i\n",
    "    password_file = os.path.join(node_dir, \"password.txt\")\n",
    "\n",
    "    with open(password_file, 'r') as file:\n",
    "        wallet_password = file.read().strip()\n",
    "\n",
    "    print(f\"Starting Node{i}...\")\n",
    "    start_node(i, node_dir)\n",
    "    time.sleep(5)  # Wait for node to initialize\n",
    "\n",
    "    print(f\"Unlocking Wallet for Node{i}...\")\n",
    "    unlock_wallet(node_dir, rpc_port, wallet_password)\n",
    "    time.sleep(2)\n",
    "\n",
    "print(\"All nodes have been started and unlocked.\")"
   ]
  },
  {
   "cell_type": "code",
   "execution_count": null,
   "id": "6bfb737e-5acd-490a-b9da-84380649a98f",
   "metadata": {},
   "outputs": [],
   "source": []
  }
 ],
 "metadata": {
  "kernelspec": {
   "display_name": "Python 3 (ipykernel)",
   "language": "python",
   "name": "python3"
  },
  "language_info": {
   "codemirror_mode": {
    "name": "ipython",
    "version": 3
   },
   "file_extension": ".py",
   "mimetype": "text/x-python",
   "name": "python",
   "nbconvert_exporter": "python",
   "pygments_lexer": "ipython3",
   "version": "3.10.13"
  }
 },
 "nbformat": 4,
 "nbformat_minor": 5
}
