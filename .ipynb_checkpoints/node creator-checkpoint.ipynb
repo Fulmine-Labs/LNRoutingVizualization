{
 "cells": [
  {
   "cell_type": "code",
   "execution_count": 1,
   "id": "34866b90-0312-4737-b801-3e48d835902a",
   "metadata": {
    "tags": []
   },
   "outputs": [],
   "source": [
    "import subprocess\n",
    "import random\n",
    "import os"
   ]
  },
  {
   "cell_type": "code",
   "execution_count": 13,
   "id": "d078fa9e-32a3-4c13-a74c-57f67be908a0",
   "metadata": {
    "tags": []
   },
   "outputs": [],
   "source": [
    "def create_node(alias, rpc_port, rest_port, listen_port):\n",
    "    # Define paths and create directories if they don't exist\n",
    "    data_dir = f\"d:\\lnd\\{alias}\"\n",
    "    os.makedirs(data_dir, exist_ok=True)\n",
    "    \n",
    "    # Use a template and replace placeholders with actual values\n",
    "    with open(r'd:\\lnd\\node0\\node0.conf', \"r\") as template_file:\n",
    "        config = template_file.read()\n",
    "    config = config.replace(rpc_port_ori, str(rpc_port))\n",
    "    config = config.replace(rest_port_ori, str(rest_port))\n",
    "    config = config.replace(listen_port_ori, str(listen_port))\n",
    "    \n",
    "    # Write the actual lnd.conf file\n",
    "    with open(f\"{data_dir}\\lnd.conf\", \"w\") as config_file:\n",
    "        config_file.write(config)\n",
    "    \n",
    "    # Launch the lnd node\n",
    "    subprocess.Popen([\"lnd\", f\"--configfile={data_dir}\\lnd.conf\"])\n"
   ]
  },
  {
   "cell_type": "code",
   "execution_count": 14,
   "id": "6cd78c11-a945-486c-b425-978082aa0aa3",
   "metadata": {
    "tags": []
   },
   "outputs": [],
   "source": [
    "# Example usage\n",
    "rpc_port_ori=\"10008\"\n",
    "rest_port_ori=\"8079\"\n",
    "listen_port_ori=\"9734\"\n",
    "\n",
    "for i in range(4, 25):\n",
    "    whimsical_name = f\"Node{i}\"\n",
    "    rpc_port = 10008 + i\n",
    "    rest_port = 8079 + i\n",
    "    listen_port = 9734 + i\n",
    "    create_node(whimsical_name, rpc_port, rest_port, listen_port)"
   ]
  },
  {
   "cell_type": "code",
   "execution_count": null,
   "id": "dfac89d0-5a26-4b0e-890d-ff7143e3664a",
   "metadata": {},
   "outputs": [],
   "source": []
  }
 ],
 "metadata": {
  "kernelspec": {
   "display_name": "Python 3 (ipykernel)",
   "language": "python",
   "name": "python3"
  },
  "language_info": {
   "codemirror_mode": {
    "name": "ipython",
    "version": 3
   },
   "file_extension": ".py",
   "mimetype": "text/x-python",
   "name": "python",
   "nbconvert_exporter": "python",
   "pygments_lexer": "ipython3",
   "version": "3.10.13"
  }
 },
 "nbformat": 4,
 "nbformat_minor": 5
}
