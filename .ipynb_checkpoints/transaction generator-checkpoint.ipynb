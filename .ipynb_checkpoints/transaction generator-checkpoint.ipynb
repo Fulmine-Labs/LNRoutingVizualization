{
 "cells": [
  {
   "cell_type": "code",
   "execution_count": 1,
   "id": "e7641f3f-a280-44f2-a02f-89d2d1aeae5b",
   "metadata": {
    "tags": []
   },
   "outputs": [],
   "source": [
    "import subprocess\n",
    "import random\n",
    "import os\n",
    "import time"
   ]
  },
  {
   "cell_type": "code",
   "execution_count": 2,
   "id": "a173a70d-e939-42d7-926f-f1c273635140",
   "metadata": {
    "tags": []
   },
   "outputs": [],
   "source": [
    "# Configurations\n",
    "num_nodes = 23\n",
    "min_transaction_amount = 1000  # Minimum transaction amount in satoshis\n",
    "max_transaction_amount = 100000  # Maximum transaction amount in satoshis\n",
    "transaction_interval = 5  # Time interval between transactions in seconds\n",
    "\n",
    "# Additional configuration for block generation\n",
    "block_generation_interval = 30  # Generate a block after every 30 transactions\n",
    "transactions_since_last_block = 0\n"
   ]
  },
  {
   "cell_type": "code",
   "execution_count": 3,
   "id": "81b597db-4257-464e-8869-fea6464584fe",
   "metadata": {
    "tags": []
   },
   "outputs": [],
   "source": [
    "# Generate node information\n",
    "nodes = [{'id': i, 'port': 10008 + i, 'macaroon_path': f'd:\\\\lnd\\\\node{i}\\\\data\\\\chain\\\\bitcoin\\\\regtest\\\\admin.macaroon', 'tls_cert_path': f'd:\\\\lnd\\\\node{i}\\\\tls.cert'} for i in range(2, num_nodes + 1)]"
   ]
  },
  {
   "cell_type": "code",
   "execution_count": 10,
   "id": "ef877420-7daf-4a58-a97d-41df7b39fffc",
   "metadata": {
    "tags": []
   },
   "outputs": [],
   "source": [
    "# Function to send a payment from one node to another\n",
    "def send_payment(source_node, dest_node, amount):\n",
    "    # Get the invoice from the destination node\n",
    "    command = f'lncli --network regtest --macaroonpath={dest_node[\"macaroon_path\"]} --tlscertpath={dest_node[\"tls_cert_path\"]} --rpcserver=localhost:{dest_node[\"port\"]} addinvoice {amount}'\n",
    "    #print (\"Command: \", command)\n",
    "    result = subprocess.run(command, capture_output=True, text=True, shell=True)\n",
    "    #print(\"Invoice command output:\", result.stdout)\n",
    "    \n",
    "    if result.returncode != 0:\n",
    "        print(f\"Failed to generate invoice: {result.stderr}\")\n",
    "        return  # Skip sending the payment if invoice generation failed\n",
    "    \n",
    "    #print (\"Invoice before split: \", result.stdout)\n",
    "    \n",
    "    invoice = result.stdout.split('\"')[7]  # Extract the invoice\n",
    "        \n",
    "    # Send the payment from the source node\n",
    "    command = f'lncli --network regtest --macaroonpath={source_node[\"macaroon_path\"]} --tlscertpath={source_node[\"tls_cert_path\"]} --rpcserver=localhost:{source_node[\"port\"]} sendpayment --pay_req={invoice} --force'\n",
    "    #print (\"Running \", command)\n",
    "    result = subprocess.run(command, shell=True)\n",
    "    \n",
    "    if result.returncode != 0:\n",
    "        print(f\"Failed to send payment: {result.stderr}\")\n",
    "        return\n"
   ]
  },
  {
   "cell_type": "code",
   "execution_count": 11,
   "id": "99f83202-54b6-4b31-86d4-dae0bceed9ef",
   "metadata": {
    "tags": []
   },
   "outputs": [],
   "source": [
    "# Function to generate a block\n",
    "def generate_block():\n",
    "    command = 'bitcoin-cli -regtest -rpcport=18443 -rpcuser=myrpcusername -rpcpassword=myrpcpassword -generate 1'\n",
    "    subprocess.run(command, shell=True)\n",
    "    print(\"Generated a new block.\")"
   ]
  },
  {
   "cell_type": "code",
   "execution_count": 12,
   "id": "b39f5a2c-44a2-4a85-b24b-4a289d647219",
   "metadata": {
    "tags": []
   },
   "outputs": [
    {
     "name": "stdout",
     "output_type": "stream",
     "text": [
      "Generated a new block.\n",
      "Sending 63945 sats from Node15 to Node6\n",
      "Command:  lncli --network regtest --macaroonpath=d:\\lnd\\node6\\data\\chain\\bitcoin\\regtest\\admin.macaroon --tlscertpath=d:\\lnd\\node6\\tls.cert --rpcserver=localhost:10014 addinvoice 63945\n",
      "Running  lncli --network regtest --macaroonpath=d:\\lnd\\node15\\data\\chain\\bitcoin\\regtest\\admin.macaroon --tlscertpath=d:\\lnd\\node15\\tls.cert --rpcserver=localhost:10023 sendpayment --pay_req=lnbcrt639450n1pj4uy66pp58ryk26rj9fpvxd5znhpdnnkvdkwhwa4lc6ttctdrd9xme07ln26qdqqcqzzsxqyz5vqsp5fxk3w03eelg4utwulmcapfpscrm48r3yxwkplv7vy988yaaajluq9qyyssqtptqh4tfzuzem4rkrspyqllpakkmfpv000h8985z2v7r595kylrncnzx4we50kyawj003220numa4lhecwzr69zkjm5yy7wfr2770csq0qakva --force\n",
      "Sending 70943 sats from Node6 to Node10\n",
      "Command:  lncli --network regtest --macaroonpath=d:\\lnd\\node10\\data\\chain\\bitcoin\\regtest\\admin.macaroon --tlscertpath=d:\\lnd\\node10\\tls.cert --rpcserver=localhost:10018 addinvoice 70943\n",
      "Running  lncli --network regtest --macaroonpath=d:\\lnd\\node6\\data\\chain\\bitcoin\\regtest\\admin.macaroon --tlscertpath=d:\\lnd\\node6\\tls.cert --rpcserver=localhost:10014 sendpayment --pay_req=lnbcrt709430n1pj4uymxpp58w2dhp2pqy60uuwz9cawdndr82xx58c5gv3ldm3ct98s8qjf290qdqqcqzzsxqyz5vqsp5s7nz3kc29pe2z6uqce8zcqn8h5c5vw7dyskku4zvhacw8hj0vu7s9qyyssqepxm7hmjf3phrxlz8ty5cq848gd2qah2njj6dwrhdyss296nsp8qrmkl7jlmvklvhx5m0ekc2yzdv089ce0wjlayw2pj0tl7spkzhhspsj04pv --force\n",
      "Sending 44536 sats from Node23 to Node8\n",
      "Command:  lncli --network regtest --macaroonpath=d:\\lnd\\node8\\data\\chain\\bitcoin\\regtest\\admin.macaroon --tlscertpath=d:\\lnd\\node8\\tls.cert --rpcserver=localhost:10016 addinvoice 44536\n",
      "Running  lncli --network regtest --macaroonpath=d:\\lnd\\node23\\data\\chain\\bitcoin\\regtest\\admin.macaroon --tlscertpath=d:\\lnd\\node23\\tls.cert --rpcserver=localhost:10031 sendpayment --pay_req=lnbcrt445360n1pj4uym3pp5290d0hzyz7rm0huzpstrzr52upzlesh39saunrc0g0smxtxqntmqdqqcqzzsxqyz5vqsp5v0l48fnnlnrekqk0svh0gtl23wj5e8f5y69jde9jpf68l8cve94s9qyyssqjhzngjxj7rm9gjky7fuuc3wf6ym6mgk6ctpnqmgaqzlpmzawr594cv9h9mj2gmcs6ufntdvsz29wc9mqwmfgnx5whdjpytspwvhvagqp0427aj --force\n",
      "Sending 70148 sats from Node7 to Node11\n",
      "Command:  lncli --network regtest --macaroonpath=d:\\lnd\\node11\\data\\chain\\bitcoin\\regtest\\admin.macaroon --tlscertpath=d:\\lnd\\node11\\tls.cert --rpcserver=localhost:10019 addinvoice 70148\n",
      "Running  lncli --network regtest --macaroonpath=d:\\lnd\\node7\\data\\chain\\bitcoin\\regtest\\admin.macaroon --tlscertpath=d:\\lnd\\node7\\tls.cert --rpcserver=localhost:10015 sendpayment --pay_req=lnbcrt701480n1pj4uymmpp57a07y52fnyde8095v6hzdcwaxc9sqclxvmer3zx64j6fr3ecar6sdqqcqzzsxqyz5vqsp5pg42k6s3cwn4u3c9exjvsh0mkrfuw8vlc0dleyx8xgsqhmajsgnq9qyyssqkycprjtx223dn39mknlcmmxdes2x0mzguknl7d92ldsy6xhwt9pspaman8wnt9nz0zla0hjkddu99vmxq6sxkd5x6lpphkdj9k50nqspg8ejrn --force\n",
      "Sending 96080 sats from Node20 to Node13\n",
      "Command:  lncli --network regtest --macaroonpath=d:\\lnd\\node13\\data\\chain\\bitcoin\\regtest\\admin.macaroon --tlscertpath=d:\\lnd\\node13\\tls.cert --rpcserver=localhost:10021 addinvoice 96080\n",
      "Running  lncli --network regtest --macaroonpath=d:\\lnd\\node20\\data\\chain\\bitcoin\\regtest\\admin.macaroon --tlscertpath=d:\\lnd\\node20\\tls.cert --rpcserver=localhost:10028 sendpayment --pay_req=lnbcrt960800n1pj4uyuxpp505wvvzpnczzwp4r0jwtvqe7j4yle62wu64ey2y5r2eemkzem6mwsdqqcqzzsxqyz5vqsp5h53wtp9evwh8uxhwxqw5t27s5u92zg08csety52qwul3jgpdfz5s9qyyssqrh85p7ugukvmvqufmkgkk3ug9dpl9hxurah4f00u0t5jcks5xaw566dkqtw24m8tqu397f2tz4sslkpf2ztxwkj0m5mtplg9chpkrrcq20rzqs --force\n"
     ]
    },
    {
     "ename": "KeyboardInterrupt",
     "evalue": "",
     "output_type": "error",
     "traceback": [
      "\u001b[1;31m---------------------------------------------------------------------------\u001b[0m",
      "\u001b[1;31mKeyboardInterrupt\u001b[0m                         Traceback (most recent call last)",
      "Cell \u001b[1;32mIn[12], line 12\u001b[0m\n\u001b[0;32m     10\u001b[0m \u001b[38;5;28mprint\u001b[39m(\u001b[38;5;124mf\u001b[39m\u001b[38;5;124m\"\u001b[39m\u001b[38;5;124mSending \u001b[39m\u001b[38;5;132;01m{\u001b[39;00mamount\u001b[38;5;132;01m}\u001b[39;00m\u001b[38;5;124m sats from Node\u001b[39m\u001b[38;5;132;01m{\u001b[39;00msource[\u001b[38;5;124m'\u001b[39m\u001b[38;5;124mid\u001b[39m\u001b[38;5;124m'\u001b[39m]\u001b[38;5;132;01m}\u001b[39;00m\u001b[38;5;124m to Node\u001b[39m\u001b[38;5;132;01m{\u001b[39;00mdest[\u001b[38;5;124m'\u001b[39m\u001b[38;5;124mid\u001b[39m\u001b[38;5;124m'\u001b[39m]\u001b[38;5;132;01m}\u001b[39;00m\u001b[38;5;124m\"\u001b[39m)\n\u001b[0;32m     11\u001b[0m \u001b[38;5;28;01mtry\u001b[39;00m:\n\u001b[1;32m---> 12\u001b[0m     \u001b[43msend_payment\u001b[49m\u001b[43m(\u001b[49m\u001b[43msource\u001b[49m\u001b[43m,\u001b[49m\u001b[43m \u001b[49m\u001b[43mdest\u001b[49m\u001b[43m,\u001b[49m\u001b[43m \u001b[49m\u001b[43mamount\u001b[49m\u001b[43m)\u001b[49m\n\u001b[0;32m     13\u001b[0m \u001b[38;5;28;01mexcept\u001b[39;00m \u001b[38;5;167;01mException\u001b[39;00m \u001b[38;5;28;01mas\u001b[39;00m e:\n\u001b[0;32m     14\u001b[0m     \u001b[38;5;28mprint\u001b[39m(\u001b[38;5;124mf\u001b[39m\u001b[38;5;124m\"\u001b[39m\u001b[38;5;124mError sending payment: \u001b[39m\u001b[38;5;132;01m{\u001b[39;00me\u001b[38;5;132;01m}\u001b[39;00m\u001b[38;5;124m\"\u001b[39m)\n",
      "Cell \u001b[1;32mIn[10], line 20\u001b[0m, in \u001b[0;36msend_payment\u001b[1;34m(source_node, dest_node, amount)\u001b[0m\n\u001b[0;32m     18\u001b[0m command \u001b[38;5;241m=\u001b[39m \u001b[38;5;124mf\u001b[39m\u001b[38;5;124m'\u001b[39m\u001b[38;5;124mlncli --network regtest --macaroonpath=\u001b[39m\u001b[38;5;132;01m{\u001b[39;00msource_node[\u001b[38;5;124m\"\u001b[39m\u001b[38;5;124mmacaroon_path\u001b[39m\u001b[38;5;124m\"\u001b[39m]\u001b[38;5;132;01m}\u001b[39;00m\u001b[38;5;124m --tlscertpath=\u001b[39m\u001b[38;5;132;01m{\u001b[39;00msource_node[\u001b[38;5;124m\"\u001b[39m\u001b[38;5;124mtls_cert_path\u001b[39m\u001b[38;5;124m\"\u001b[39m]\u001b[38;5;132;01m}\u001b[39;00m\u001b[38;5;124m --rpcserver=localhost:\u001b[39m\u001b[38;5;132;01m{\u001b[39;00msource_node[\u001b[38;5;124m\"\u001b[39m\u001b[38;5;124mport\u001b[39m\u001b[38;5;124m\"\u001b[39m]\u001b[38;5;132;01m}\u001b[39;00m\u001b[38;5;124m sendpayment --pay_req=\u001b[39m\u001b[38;5;132;01m{\u001b[39;00minvoice\u001b[38;5;132;01m}\u001b[39;00m\u001b[38;5;124m --force\u001b[39m\u001b[38;5;124m'\u001b[39m\n\u001b[0;32m     19\u001b[0m \u001b[38;5;28mprint\u001b[39m (\u001b[38;5;124m\"\u001b[39m\u001b[38;5;124mRunning \u001b[39m\u001b[38;5;124m\"\u001b[39m, command)\n\u001b[1;32m---> 20\u001b[0m result \u001b[38;5;241m=\u001b[39m \u001b[43msubprocess\u001b[49m\u001b[38;5;241;43m.\u001b[39;49m\u001b[43mrun\u001b[49m\u001b[43m(\u001b[49m\u001b[43mcommand\u001b[49m\u001b[43m,\u001b[49m\u001b[43m \u001b[49m\u001b[43mshell\u001b[49m\u001b[38;5;241;43m=\u001b[39;49m\u001b[38;5;28;43;01mTrue\u001b[39;49;00m\u001b[43m)\u001b[49m\n\u001b[0;32m     22\u001b[0m \u001b[38;5;28;01mif\u001b[39;00m result\u001b[38;5;241m.\u001b[39mreturncode \u001b[38;5;241m!=\u001b[39m \u001b[38;5;241m0\u001b[39m:\n\u001b[0;32m     23\u001b[0m     \u001b[38;5;28mprint\u001b[39m(\u001b[38;5;124mf\u001b[39m\u001b[38;5;124m\"\u001b[39m\u001b[38;5;124mFailed to send payment: \u001b[39m\u001b[38;5;132;01m{\u001b[39;00mresult\u001b[38;5;241m.\u001b[39mstderr\u001b[38;5;132;01m}\u001b[39;00m\u001b[38;5;124m\"\u001b[39m)\n",
      "File \u001b[1;32m~\\anaconda3\\envs\\myenv\\lib\\subprocess.py:505\u001b[0m, in \u001b[0;36mrun\u001b[1;34m(input, capture_output, timeout, check, *popenargs, **kwargs)\u001b[0m\n\u001b[0;32m    503\u001b[0m \u001b[38;5;28;01mwith\u001b[39;00m Popen(\u001b[38;5;241m*\u001b[39mpopenargs, \u001b[38;5;241m*\u001b[39m\u001b[38;5;241m*\u001b[39mkwargs) \u001b[38;5;28;01mas\u001b[39;00m process:\n\u001b[0;32m    504\u001b[0m     \u001b[38;5;28;01mtry\u001b[39;00m:\n\u001b[1;32m--> 505\u001b[0m         stdout, stderr \u001b[38;5;241m=\u001b[39m \u001b[43mprocess\u001b[49m\u001b[38;5;241;43m.\u001b[39;49m\u001b[43mcommunicate\u001b[49m\u001b[43m(\u001b[49m\u001b[38;5;28;43minput\u001b[39;49m\u001b[43m,\u001b[49m\u001b[43m \u001b[49m\u001b[43mtimeout\u001b[49m\u001b[38;5;241;43m=\u001b[39;49m\u001b[43mtimeout\u001b[49m\u001b[43m)\u001b[49m\n\u001b[0;32m    506\u001b[0m     \u001b[38;5;28;01mexcept\u001b[39;00m TimeoutExpired \u001b[38;5;28;01mas\u001b[39;00m exc:\n\u001b[0;32m    507\u001b[0m         process\u001b[38;5;241m.\u001b[39mkill()\n",
      "File \u001b[1;32m~\\anaconda3\\envs\\myenv\\lib\\subprocess.py:1146\u001b[0m, in \u001b[0;36mPopen.communicate\u001b[1;34m(self, input, timeout)\u001b[0m\n\u001b[0;32m   1144\u001b[0m         stderr \u001b[38;5;241m=\u001b[39m \u001b[38;5;28mself\u001b[39m\u001b[38;5;241m.\u001b[39mstderr\u001b[38;5;241m.\u001b[39mread()\n\u001b[0;32m   1145\u001b[0m         \u001b[38;5;28mself\u001b[39m\u001b[38;5;241m.\u001b[39mstderr\u001b[38;5;241m.\u001b[39mclose()\n\u001b[1;32m-> 1146\u001b[0m     \u001b[38;5;28;43mself\u001b[39;49m\u001b[38;5;241;43m.\u001b[39;49m\u001b[43mwait\u001b[49m\u001b[43m(\u001b[49m\u001b[43m)\u001b[49m\n\u001b[0;32m   1147\u001b[0m \u001b[38;5;28;01melse\u001b[39;00m:\n\u001b[0;32m   1148\u001b[0m     \u001b[38;5;28;01mif\u001b[39;00m timeout \u001b[38;5;129;01mis\u001b[39;00m \u001b[38;5;129;01mnot\u001b[39;00m \u001b[38;5;28;01mNone\u001b[39;00m:\n",
      "File \u001b[1;32m~\\anaconda3\\envs\\myenv\\lib\\subprocess.py:1209\u001b[0m, in \u001b[0;36mPopen.wait\u001b[1;34m(self, timeout)\u001b[0m\n\u001b[0;32m   1207\u001b[0m     endtime \u001b[38;5;241m=\u001b[39m _time() \u001b[38;5;241m+\u001b[39m timeout\n\u001b[0;32m   1208\u001b[0m \u001b[38;5;28;01mtry\u001b[39;00m:\n\u001b[1;32m-> 1209\u001b[0m     \u001b[38;5;28;01mreturn\u001b[39;00m \u001b[38;5;28;43mself\u001b[39;49m\u001b[38;5;241;43m.\u001b[39;49m\u001b[43m_wait\u001b[49m\u001b[43m(\u001b[49m\u001b[43mtimeout\u001b[49m\u001b[38;5;241;43m=\u001b[39;49m\u001b[43mtimeout\u001b[49m\u001b[43m)\u001b[49m\n\u001b[0;32m   1210\u001b[0m \u001b[38;5;28;01mexcept\u001b[39;00m \u001b[38;5;167;01mKeyboardInterrupt\u001b[39;00m:\n\u001b[0;32m   1211\u001b[0m     \u001b[38;5;66;03m# https://bugs.python.org/issue25942\u001b[39;00m\n\u001b[0;32m   1212\u001b[0m     \u001b[38;5;66;03m# The first keyboard interrupt waits briefly for the child to\u001b[39;00m\n\u001b[0;32m   1213\u001b[0m     \u001b[38;5;66;03m# exit under the common assumption that it also received the ^C\u001b[39;00m\n\u001b[0;32m   1214\u001b[0m     \u001b[38;5;66;03m# generated SIGINT and will exit rapidly.\u001b[39;00m\n\u001b[0;32m   1215\u001b[0m     \u001b[38;5;28;01mif\u001b[39;00m timeout \u001b[38;5;129;01mis\u001b[39;00m \u001b[38;5;129;01mnot\u001b[39;00m \u001b[38;5;28;01mNone\u001b[39;00m:\n",
      "File \u001b[1;32m~\\anaconda3\\envs\\myenv\\lib\\subprocess.py:1506\u001b[0m, in \u001b[0;36mPopen._wait\u001b[1;34m(self, timeout)\u001b[0m\n\u001b[0;32m   1503\u001b[0m     timeout_millis \u001b[38;5;241m=\u001b[39m \u001b[38;5;28mint\u001b[39m(timeout \u001b[38;5;241m*\u001b[39m \u001b[38;5;241m1000\u001b[39m)\n\u001b[0;32m   1504\u001b[0m \u001b[38;5;28;01mif\u001b[39;00m \u001b[38;5;28mself\u001b[39m\u001b[38;5;241m.\u001b[39mreturncode \u001b[38;5;129;01mis\u001b[39;00m \u001b[38;5;28;01mNone\u001b[39;00m:\n\u001b[0;32m   1505\u001b[0m     \u001b[38;5;66;03m# API note: Returns immediately if timeout_millis == 0.\u001b[39;00m\n\u001b[1;32m-> 1506\u001b[0m     result \u001b[38;5;241m=\u001b[39m \u001b[43m_winapi\u001b[49m\u001b[38;5;241;43m.\u001b[39;49m\u001b[43mWaitForSingleObject\u001b[49m\u001b[43m(\u001b[49m\u001b[38;5;28;43mself\u001b[39;49m\u001b[38;5;241;43m.\u001b[39;49m\u001b[43m_handle\u001b[49m\u001b[43m,\u001b[49m\n\u001b[0;32m   1507\u001b[0m \u001b[43m                                         \u001b[49m\u001b[43mtimeout_millis\u001b[49m\u001b[43m)\u001b[49m\n\u001b[0;32m   1508\u001b[0m     \u001b[38;5;28;01mif\u001b[39;00m result \u001b[38;5;241m==\u001b[39m _winapi\u001b[38;5;241m.\u001b[39mWAIT_TIMEOUT:\n\u001b[0;32m   1509\u001b[0m         \u001b[38;5;28;01mraise\u001b[39;00m TimeoutExpired(\u001b[38;5;28mself\u001b[39m\u001b[38;5;241m.\u001b[39margs, timeout)\n",
      "\u001b[1;31mKeyboardInterrupt\u001b[0m: "
     ]
    }
   ],
   "source": [
    "generate_block()\n",
    "\n",
    "# Infinite loop to send random payments\n",
    "while True:\n",
    "    source = random.choice(nodes[1:])  # Exclude node1 from being a source\n",
    "    dest = random.choice(nodes)  # Any node can be a destination\n",
    "    amount = random.randint(min_transaction_amount, max_transaction_amount)\n",
    "\n",
    "    if source != dest:\n",
    "        print(f\"Sending {amount} sats from Node{source['id']} to Node{dest['id']}\")\n",
    "        try:\n",
    "            send_payment(source, dest, amount)\n",
    "        except Exception as e:\n",
    "            print(f\"Error sending payment: {e}\")\n",
    "            \n",
    "        transactions_since_last_block += 1\n",
    "        # Generate a block if the interval is reached\n",
    "        if transactions_since_last_block >= block_generation_interval:\n",
    "            generate_block()\n",
    "            transactions_since_last_block = 0\n",
    "\n",
    "    time.sleep(transaction_interval)"
   ]
  },
  {
   "cell_type": "code",
   "execution_count": null,
   "id": "17592071-2666-453c-8d6a-05c4d1ba8124",
   "metadata": {},
   "outputs": [],
   "source": []
  },
  {
   "cell_type": "code",
   "execution_count": null,
   "id": "e17c18ad-7468-4c38-ac69-1fd032169597",
   "metadata": {},
   "outputs": [],
   "source": []
  }
 ],
 "metadata": {
  "kernelspec": {
   "display_name": "Python 3 (ipykernel)",
   "language": "python",
   "name": "python3"
  },
  "language_info": {
   "codemirror_mode": {
    "name": "ipython",
    "version": 3
   },
   "file_extension": ".py",
   "mimetype": "text/x-python",
   "name": "python",
   "nbconvert_exporter": "python",
   "pygments_lexer": "ipython3",
   "version": "3.10.13"
  }
 },
 "nbformat": 4,
 "nbformat_minor": 5
}
