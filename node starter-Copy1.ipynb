{
 "cells": [
  {
   "cell_type": "code",
   "execution_count": 1,
   "id": "9e2315af-c13a-4f8a-870e-1507de660a8c",
   "metadata": {
    "tags": []
   },
   "outputs": [],
   "source": [
    "import os\n",
    "import subprocess\n",
    "import time\n"
   ]
  },
  {
   "cell_type": "code",
   "execution_count": 2,
   "id": "17dc13e2-e990-4662-a11f-dd8bbf2b706d",
   "metadata": {
    "tags": []
   },
   "outputs": [],
   "source": [
    "def start_node(node_number, node_dir):\n",
    "    node_bat = os.path.join(node_dir, f\"node{node_number}.bat\")\n",
    "    subprocess.Popen([\"cmd\", \"/c\", node_bat], cwd=node_dir, creationflags=subprocess.CREATE_NEW_CONSOLE)\n"
   ]
  },
  {
   "cell_type": "code",
   "execution_count": 3,
   "id": "94002e0e-f84b-4671-8b0e-330a291eab28",
   "metadata": {
    "tags": []
   },
   "outputs": [],
   "source": [
    "def unlock_wallet(node_dir, rpc_port, wallet_password):\n",
    "    unlock_command = f\"lncli --network regtest --macaroonpath={node_dir}\\\\data\\\\chain\\\\bitcoin\\\\regtest\\\\admin.macaroon --tlscertpath={node_dir}\\\\tls.cert --rpcserver=localhost:{rpc_port} unlock --stdin\"\n",
    "    proc = subprocess.Popen(unlock_command, stdin=subprocess.PIPE, shell=True, text=True)\n",
    "    proc.communicate(wallet_password + \"\\n\")"
   ]
  },
  {
   "cell_type": "code",
   "execution_count": 4,
   "id": "1e28cb57-563c-4c05-a889-5f3c7f3bd32b",
   "metadata": {
    "tags": []
   },
   "outputs": [
    {
     "name": "stdout",
     "output_type": "stream",
     "text": [
      "Starting Node1...\n",
      "Unlocking Wallet for Node1...\n",
      "Starting Node2...\n",
      "Unlocking Wallet for Node2...\n",
      "All nodes have been started and unlocked.\n"
     ]
    }
   ],
   "source": [
    "# Main script\n",
    "lnd_dir = \"D:\\\\lnd\\\\\"\n",
    "\n",
    "for i in range(1, 25):\n",
    "    node_dir = os.path.join(lnd_dir, f\"node{i}\")\n",
    "    rpc_port = 10008 + i\n",
    "    password_file = os.path.join(node_dir, \"password.txt\")\n",
    "\n",
    "    with open(password_file, 'r') as file:\n",
    "        wallet_password = file.read().strip()\n",
    "\n",
    "    print(f\"Starting Node{i}...\")\n",
    "    start_node(i, node_dir)\n",
    "    time.sleep(5)  # Wait for node to initialize\n",
    "\n",
    "    print(f\"Unlocking Wallet for Node{i}...\")\n",
    "    unlock_wallet(node_dir, rpc_port, wallet_password)\n",
    "    time.sleep(2)\n",
    "\n",
    "print(\"All nodes have been started and unlocked.\")"
   ]
  },
  {
   "cell_type": "code",
   "execution_count": null,
   "id": "7a1e5928-7f0a-4535-ad18-fa5e65272a75",
   "metadata": {},
   "outputs": [],
   "source": []
  }
 ],
 "metadata": {
  "kernelspec": {
   "display_name": "Python 3 (ipykernel)",
   "language": "python",
   "name": "python3"
  },
  "language_info": {
   "codemirror_mode": {
    "name": "ipython",
    "version": 3
   },
   "file_extension": ".py",
   "mimetype": "text/x-python",
   "name": "python",
   "nbconvert_exporter": "python",
   "pygments_lexer": "ipython3",
   "version": "3.10.13"
  }
 },
 "nbformat": 4,
 "nbformat_minor": 5
}
